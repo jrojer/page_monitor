{
 "cells": [
  {
   "cell_type": "code",
   "execution_count": 49,
   "metadata": {},
   "outputs": [
    {
     "name": "stdout",
     "output_type": "stream",
     "text": [
      "2020-05-04 19:10:49.223477\n",
      "84.05 79.9\n"
     ]
    }
   ],
   "source": [
    "import selenium as se\n",
    "from selenium import webdriver\n",
    "from selenium.webdriver.chrome.options import Options\n",
    "import re\n",
    "from datetime import datetime\n",
    "\n",
    "url = 'https://www.tinkoff.ru/about/exchange/'\n",
    "\n",
    "chrome_options = Options()\n",
    "chrome_options.add_argument('--no-sandbox')\n",
    "chrome_options.add_argument('--headless')\n",
    "chrome_options.add_argument('--disable-dev-shm-usage')\n",
    "\n",
    "driver = webdriver.Chrome(options=chrome_options)\n",
    "driver.get(url)\n",
    "\n",
    "pat = re.compile(r'<div class=\"Text__text_primary_28uo7\" data-qa-file=\"index\">([\\d,]+)</div>')\n",
    "res = pat.findall(driver.page_source)\n",
    "\n",
    "rub_to_eur = float(res[0].replace(',','.'))\n",
    "eur_to_rub = float(res[1].replace(',','.'))\n",
    "\n",
    "print(datetime.now())\n",
    "print(rub_to_eur, eur_to_rub)\n"
   ]
  },
  {
   "cell_type": "code",
   "execution_count": 4,
   "metadata": {},
   "outputs": [
    {
     "name": "stdout",
     "output_type": "stream",
     "text": [
      "['0', '0', '0', '0', '0', '0', '0', '0', '0', '0', '0', '0', '0', '0']\n"
     ]
    }
   ],
   "source": [
    "import re\n",
    "with open('./bad_page.log', 'r') as fd:\n",
    "    text = fd.read()\n",
    "    pat = re.compile(r'<div class=\"Text__text_primary_28uo7\" data-qa-file=\"index\">([\\d,]+)</div>')\n",
    "    res = pat.findall(text)\n",
    "    print(res)"
   ]
  }
 ],
 "metadata": {
  "kernelspec": {
   "display_name": "Python 3",
   "language": "python",
   "name": "python3"
  },
  "language_info": {
   "codemirror_mode": {
    "name": "ipython",
    "version": 3
   },
   "file_extension": ".py",
   "mimetype": "text/x-python",
   "name": "python",
   "nbconvert_exporter": "python",
   "pygments_lexer": "ipython3",
   "version": "3.6.9"
  }
 },
 "nbformat": 4,
 "nbformat_minor": 4
}
